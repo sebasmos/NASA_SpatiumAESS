{
 "cells": [
  {
   "cell_type": "code",
   "execution_count": 1,
   "metadata": {},
   "outputs": [],
   "source": [
    "import numpy as np \n",
    "import sys,os\n",
    "import cv2\n",
    "\n",
    "import pandas as pd\n"
   ]
  },
  {
   "cell_type": "code",
   "execution_count": 2,
   "metadata": {},
   "outputs": [],
   "source": []
  },
  {
   "cell_type": "code",
   "execution_count": 3,
   "metadata": {},
   "outputs": [
    {
     "name": "stdout",
     "output_type": "stream",
     "text": [
      "/home/sebasmos/Documentos/NASA_Spacesuit/train/images/969689.png\n",
      "/home/sebasmos/Documentos/NASA_Spacesuit/train/images/409779.png\n",
      "/home/sebasmos/Documentos/NASA_Spacesuit/train/images/969698.png\n",
      "/home/sebasmos/Documentos/NASA_Spacesuit/train/images/526920.png\n",
      "/home/sebasmos/Documentos/NASA_Spacesuit/train/images/049349.png\n",
      "/home/sebasmos/Documentos/NASA_Spacesuit/train/images/950880.png\n",
      "/home/sebasmos/Documentos/NASA_Spacesuit/train/images/336825.png\n",
      "/home/sebasmos/Documentos/NASA_Spacesuit/train/images/591443.png\n",
      "/home/sebasmos/Documentos/NASA_Spacesuit/train/images/988860.png\n",
      "/home/sebasmos/Documentos/NASA_Spacesuit/train/images/198464.png\n",
      "/home/sebasmos/Documentos/NASA_Spacesuit/train/images/530935.png\n",
      "/home/sebasmos/Documentos/NASA_Spacesuit/train/images/759158.png\n",
      "/home/sebasmos/Documentos/NASA_Spacesuit/train/images/140435.png\n",
      "/home/sebasmos/Documentos/NASA_Spacesuit/train/images/394854.png\n",
      "/home/sebasmos/Documentos/NASA_Spacesuit/train/images/775588.png\n",
      "/home/sebasmos/Documentos/NASA_Spacesuit/train/images/668756.png\n",
      "/home/sebasmos/Documentos/NASA_Spacesuit/train/images/967962.png\n",
      "/home/sebasmos/Documentos/NASA_Spacesuit/train/images/575220.png\n",
      "/home/sebasmos/Documentos/NASA_Spacesuit/train/images/508694.png\n",
      "/home/sebasmos/Documentos/NASA_Spacesuit/train/images/368532.png\n",
      "/home/sebasmos/Documentos/NASA_Spacesuit/train/images/529199.png\n",
      "/home/sebasmos/Documentos/NASA_Spacesuit/train/images/118330.png\n",
      "/home/sebasmos/Documentos/NASA_Spacesuit/train/images/777324.png\n",
      "/home/sebasmos/Documentos/NASA_Spacesuit/train/images/602153.png\n",
      "/home/sebasmos/Documentos/NASA_Spacesuit/train/images/143190.png\n",
      "/home/sebasmos/Documentos/NASA_Spacesuit/train/images/988638.png\n",
      "/home/sebasmos/Documentos/NASA_Spacesuit/train/images/528003.png\n",
      "/home/sebasmos/Documentos/NASA_Spacesuit/train/images/141624.png\n",
      "/home/sebasmos/Documentos/NASA_Spacesuit/train/images/084510.png\n",
      "/home/sebasmos/Documentos/NASA_Spacesuit/train/images/143254.png\n",
      "/home/sebasmos/Documentos/NASA_Spacesuit/train/images/276884.png\n",
      "/home/sebasmos/Documentos/NASA_Spacesuit/train/images/283494.png\n",
      "/home/sebasmos/Documentos/NASA_Spacesuit/train/images/146186.png\n",
      "/home/sebasmos/Documentos/NASA_Spacesuit/train/images/217404.png\n",
      "/home/sebasmos/Documentos/NASA_Spacesuit/train/images/949796.png\n",
      "/home/sebasmos/Documentos/NASA_Spacesuit/train/images/603889.png\n",
      "/home/sebasmos/Documentos/NASA_Spacesuit/train/images/592953.png\n",
      "/home/sebasmos/Documentos/NASA_Spacesuit/train/images/727927.png\n",
      "/home/sebasmos/Documentos/NASA_Spacesuit/train/images/721030.png\n",
      "/home/sebasmos/Documentos/NASA_Spacesuit/train/images/913404.png\n",
      "/home/sebasmos/Documentos/NASA_Spacesuit/train/images/105779.png\n",
      "/home/sebasmos/Documentos/NASA_Spacesuit/train/images/078630.png\n",
      "/home/sebasmos/Documentos/NASA_Spacesuit/train/images/047174.png\n",
      "/home/sebasmos/Documentos/NASA_Spacesuit/train/images/948061.png\n",
      "/home/sebasmos/Documentos/NASA_Spacesuit/train/images/085302.png\n",
      "/home/sebasmos/Documentos/NASA_Spacesuit/train/images/232738.png\n",
      "/home/sebasmos/Documentos/NASA_Spacesuit/train/images/134928.png\n",
      "/home/sebasmos/Documentos/NASA_Spacesuit/train/images/528655.png\n",
      "/home/sebasmos/Documentos/NASA_Spacesuit/train/images/661319.png\n",
      "/home/sebasmos/Documentos/NASA_Spacesuit/train/images/465853.png\n",
      "/home/sebasmos/Documentos/NASA_Spacesuit/train/images/965295.png\n",
      "/home/sebasmos/Documentos/NASA_Spacesuit/train/images/379525.png\n",
      "/home/sebasmos/Documentos/NASA_Spacesuit/train/images/545086.png\n",
      "/home/sebasmos/Documentos/NASA_Spacesuit/train/images/239549.png\n",
      "/home/sebasmos/Documentos/NASA_Spacesuit/train/images/925956.png\n",
      "/home/sebasmos/Documentos/NASA_Spacesuit/train/images/256834.png\n",
      "/home/sebasmos/Documentos/NASA_Spacesuit/train/images/425113.png\n",
      "/home/sebasmos/Documentos/NASA_Spacesuit/train/images/180912.png\n",
      "/home/sebasmos/Documentos/NASA_Spacesuit/train/images/091632.png\n",
      "/home/sebasmos/Documentos/NASA_Spacesuit/train/images/948995.png\n",
      "/home/sebasmos/Documentos/NASA_Spacesuit/train/images/898996.png\n",
      "/home/sebasmos/Documentos/NASA_Spacesuit/train/images/661633.png\n",
      "Image training instances:  86\n",
      "videos training instances:  13\n",
      "video_frames evaluation instances:  6682\n"
     ]
    }
   ],
   "source": [
    "root_dir = \"/home/sebasmos/Documentos/NASA_Spacesuit/train/\"\n",
    "# Load data paths\n",
    "training_images = []   # images png + jpg\n",
    "img_ann = []        # images annotations\n",
    "    \n",
    "videos = []         # videos\n",
    "videos_ann = []     # videos annotations\n",
    "video_frames = []   # video frames\n",
    "video_frames_ann=[] # video frames annotations\n",
    "\n",
    "for root, dirs, files in os.walk(root_dir, topdown=True):\n",
    "    for name in files:\n",
    "        path = os.path.join(root, name)            \n",
    "        if '.png' in path  and 'images' in path:\n",
    "            training_images.append(path)\n",
    "            print(path)\n",
    "        if '.jpg' in path  and 'images' in path:\n",
    "            training_images.append(path)\n",
    "        if '.txt' in path and 'images' in path:\n",
    "            img_ann.append(path)\n",
    "        if '.mov' in path and 'videos' in path:\n",
    "            videos.append(path)\n",
    "        if '.csv' in path and 'videos' in path:\n",
    "            videos_ann.append(path)\n",
    "        if '.jpg' in path and 'videos-frames' in path:\n",
    "            video_frames.append(path)\n",
    "            #if '.csv' in path and 'videos-frames' in path: #TODO: CHECK ANNOTATIONS\n",
    "            #    video_frames_ann.append(path)\n",
    "print('Image training instances: ', len(training_images))\n",
    "print('videos training instances: ', len(videos))\n",
    "print('video_frames evaluation instances: ', len(video_frames))\n"
   ]
  },
  {
   "cell_type": "code",
   "execution_count": 9,
   "metadata": {},
   "outputs": [
    {
     "ename": "NameError",
     "evalue": "name 'plt' is not defined",
     "output_type": "error",
     "traceback": [
      "\u001b[0;31m---------------------------------------------------------------------------\u001b[0m",
      "\u001b[0;31mNameError\u001b[0m                                 Traceback (most recent call last)",
      "\u001b[0;32m<ipython-input-9-26947c23f6a4>\u001b[0m in \u001b[0;36m<module>\u001b[0;34m\u001b[0m\n\u001b[1;32m     17\u001b[0m \u001b[0;34m\u001b[0m\u001b[0m\n\u001b[1;32m     18\u001b[0m \u001b[0mpath\u001b[0m \u001b[0;34m=\u001b[0m \u001b[0;34m\"/home/sebasmos/Documentos/NASA_Spacesuit/train/images/933760.jpg\"\u001b[0m\u001b[0;34m\u001b[0m\u001b[0;34m\u001b[0m\u001b[0m\n\u001b[0;32m---> 19\u001b[0;31m \u001b[0msegmentation\u001b[0m\u001b[0;34m(\u001b[0m\u001b[0mpath\u001b[0m\u001b[0;34m,\u001b[0m \u001b[0;36m1\u001b[0m\u001b[0;34m)\u001b[0m\u001b[0;34m\u001b[0m\u001b[0;34m\u001b[0m\u001b[0m\n\u001b[0m",
      "\u001b[0;32m<ipython-input-9-26947c23f6a4>\u001b[0m in \u001b[0;36msegmentation\u001b[0;34m(path, label)\u001b[0m\n\u001b[1;32m      1\u001b[0m \u001b[0;32mdef\u001b[0m \u001b[0msegmentation\u001b[0m\u001b[0;34m(\u001b[0m\u001b[0mpath\u001b[0m\u001b[0;34m,\u001b[0m \u001b[0mlabel\u001b[0m\u001b[0;34m)\u001b[0m\u001b[0;34m:\u001b[0m\u001b[0;34m\u001b[0m\u001b[0;34m\u001b[0m\u001b[0m\n\u001b[1;32m      2\u001b[0m     \u001b[0mima\u001b[0m \u001b[0;34m=\u001b[0m \u001b[0mcv2\u001b[0m\u001b[0;34m.\u001b[0m\u001b[0mimread\u001b[0m\u001b[0;34m(\u001b[0m\u001b[0mpath\u001b[0m\u001b[0;34m,\u001b[0m \u001b[0mcv2\u001b[0m\u001b[0;34m.\u001b[0m\u001b[0mIMREAD_GRAYSCALE\u001b[0m\u001b[0;34m)\u001b[0m\u001b[0;34m\u001b[0m\u001b[0;34m\u001b[0m\u001b[0m\n\u001b[0;32m----> 3\u001b[0;31m     \u001b[0mplt\u001b[0m\u001b[0;34m.\u001b[0m\u001b[0mimshow\u001b[0m\u001b[0;34m(\u001b[0m\u001b[0mima\u001b[0m\u001b[0;34m)\u001b[0m\u001b[0;34m\u001b[0m\u001b[0;34m\u001b[0m\u001b[0m\n\u001b[0m\u001b[1;32m      4\u001b[0m     \u001b[0;32mreturn\u001b[0m \u001b[0;36m1\u001b[0m\u001b[0;34m\u001b[0m\u001b[0;34m\u001b[0m\u001b[0m\n\u001b[1;32m      5\u001b[0m \u001b[0;34m\u001b[0m\u001b[0m\n",
      "\u001b[0;31mNameError\u001b[0m: name 'plt' is not defined"
     ]
    }
   ],
   "source": [
    "def segmentation(path, label):\n",
    "    ima = cv2.imread(path, cv2.IMREAD_GRAYSCALE)\n",
    "    plt.imshow(ima)\n",
    "    return 1\n",
    "    \n",
    "\n",
    "def feature_extraction(path, label): # ADAPT ANNOTATIONS CORRECTLY & POLYGON + AREA EXTRACTION\n",
    "  ima = cv2.imread(path, cv2.IMREAD_GRAYSCALE)\n",
    "  mean = np.mean(ima)\n",
    "  #contrast = np.amax(ima)-np.amin(ima)\n",
    "  #sdev = np.std(ima)\n",
    "  #ssd_blur, blur_count = homogeinty(path)\n",
    "  #features = np.array([label, mean, contrast, sdev, ssd_blur, blur_count])\n",
    "  features = np.array([label, mean])\n",
    "  return features\n",
    "\n",
    "\n",
    "path = \"/home/sebasmos/Documentos/NASA_Spacesuit/train/images/933760.jpg\"\n",
    "segmentation(path, 1)"
   ]
  },
  {
   "cell_type": "code",
   "execution_count": 6,
   "metadata": {},
   "outputs": [],
   "source": [
    "Num_features = 1\n",
    "feat_names = ['Polygon']\n",
    "train_size = len(training_images)\n",
    "\n",
    "data_train = np.zeros((train_size, Num_features+1), dtype=np.float32)\n",
    "    #data_test = np.zeros((test_size, Num_features+1), dtype=np.float32)\n",
    "i = 0\n",
    "for path in training_images:\n",
    "    data_train[i, :] = feature_extraction(path, 2)\n",
    "    i = i+1\n",
    "comand_1 = \"pwd\"\n",
    "data_train = pd.DataFrame(data_train)\n",
    "data_train.to_csv(os.path.join('train_data.csv'))    "
   ]
  },
  {
   "cell_type": "code",
   "execution_count": null,
   "metadata": {},
   "outputs": [],
   "source": []
  }
 ],
 "metadata": {
  "kernelspec": {
   "display_name": "Python 3.7.8 64-bit ('solaris': conda)",
   "language": "python",
   "name": "python378jvsc74a57bd0846fc0da2063d51e888b54ea48ec89969bbeabb9e67eeda438e71ccf6ec5bc96"
  },
  "language_info": {
   "codemirror_mode": {
    "name": "ipython",
    "version": 3
   },
   "file_extension": ".py",
   "mimetype": "text/x-python",
   "name": "python",
   "nbconvert_exporter": "python",
   "pygments_lexer": "ipython3",
   "version": "3.7.8"
  },
  "metadata": {
   "interpreter": {
    "hash": "846fc0da2063d51e888b54ea48ec89969bbeabb9e67eeda438e71ccf6ec5bc96"
   }
  }
 },
 "nbformat": 4,
 "nbformat_minor": 2
}
